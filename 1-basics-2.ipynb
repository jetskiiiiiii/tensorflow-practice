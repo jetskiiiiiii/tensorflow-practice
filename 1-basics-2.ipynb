{
 "cells": [
  {
   "cell_type": "code",
   "execution_count": 3,
   "metadata": {},
   "outputs": [],
   "source": [
    "import tensorflow as tf\n",
    "import numpy as np"
   ]
  },
  {
   "cell_type": "code",
   "execution_count": 12,
   "metadata": {},
   "outputs": [
    {
     "data": {
      "text/plain": [
       "(TensorShape([1, 2, 3]), TensorShape([2, 3, 4]))"
      ]
     },
     "execution_count": 12,
     "metadata": {},
     "output_type": "execute_result"
    }
   ],
   "source": [
    "#Matrix multiplication\n",
    "\n",
    "tensor_1 = tf.eye(2, 3, [1])\n",
    "tensor_2 = tf.eye(3, 4, [2])\n",
    "tensor_1.shape, tensor_2.shape"
   ]
  },
  {
   "cell_type": "code",
   "execution_count": 4,
   "metadata": {},
   "outputs": [
    {
     "data": {
      "text/plain": [
       "<tf.Tensor: shape=(2, 2, 4), dtype=float32, numpy=\n",
       "array([[[1., 0., 0., 0.],\n",
       "        [0., 1., 0., 0.]],\n",
       "\n",
       "       [[1., 0., 0., 0.],\n",
       "        [0., 1., 0., 0.]]], dtype=float32)>"
      ]
     },
     "execution_count": 4,
     "metadata": {},
     "output_type": "execute_result"
    }
   ],
   "source": [
    "tf.matmul(tensor_1, tensor_2)"
   ]
  },
  {
   "cell_type": "markdown",
   "metadata": {},
   "source": [
    "if tensor_1 shape is [x, y, z], tensor_2 shape should be [y, z, a]\n",
    "where y and z match"
   ]
  },
  {
   "cell_type": "code",
   "execution_count": 5,
   "metadata": {},
   "outputs": [
    {
     "data": {
      "text/plain": [
       "<tf.Tensor: shape=(3, 2, 2), dtype=float32, numpy=\n",
       "array([[[1., 1.],\n",
       "        [1., 1.]],\n",
       "\n",
       "       [[1., 1.],\n",
       "        [1., 1.]],\n",
       "\n",
       "       [[1., 1.],\n",
       "        [1., 1.]]], dtype=float32)>"
      ]
     },
     "execution_count": 5,
     "metadata": {},
     "output_type": "execute_result"
    }
   ],
   "source": [
    "tensor_3 = tf.ones([3, 2, 2])\n",
    "tensor_3"
   ]
  },
  {
   "cell_type": "code",
   "execution_count": 6,
   "metadata": {},
   "outputs": [
    {
     "data": {
      "text/plain": [
       "<tf.Tensor: shape=(4, 3), dtype=float32, numpy=\n",
       "array([[1., 1., 1.],\n",
       "       [1., 1., 1.],\n",
       "       [1., 1., 1.],\n",
       "       [1., 1., 1.]], dtype=float32)>"
      ]
     },
     "execution_count": 6,
     "metadata": {},
     "output_type": "execute_result"
    }
   ],
   "source": [
    "# Change shape\n",
    "tf.reshape(tensor_3, [4, 3])"
   ]
  },
  {
   "cell_type": "code",
   "execution_count": 38,
   "metadata": {},
   "outputs": [
    {
     "data": {
      "text/plain": [
       "<tf.Tensor: shape=(2, 2, 5), dtype=float32, numpy=\n",
       "array([[[ 1.5417138 ,  0.9519267 ,  1.1270944 ,  1.1228234 ,\n",
       "          1.0628161 ],\n",
       "        [-2.5476778 , -1.7859151 , -1.5100384 , -1.8356771 ,\n",
       "         -1.096293  ]],\n",
       "\n",
       "       [[-0.06013846,  0.45600736,  0.01394755, -0.6130394 ,\n",
       "         -0.7100563 ],\n",
       "        [ 2.9724422 ,  1.4066024 ,  1.0040293 ,  1.6954387 ,\n",
       "          1.4357423 ]]], dtype=float32)>"
      ]
     },
     "execution_count": 38,
     "metadata": {},
     "output_type": "execute_result"
    }
   ],
   "source": [
    "tensor_4 = tf.random.Generator.from_seed(2).normal(shape=(2, 2, 4))\n",
    "tensor_5 = tf.random.Generator.from_seed(2).uniform(shape=(1, 4, 5))\n",
    "\n",
    "tf.matmul(tensor_4, tensor_5)"
   ]
  },
  {
   "cell_type": "markdown",
   "metadata": {},
   "source": [
    "`tf.matmul` can take `batch_size` where a tensor with shape (x, y, z) where x takes value of batch_size;\n",
    "when multiplying matricies, `batch_size` has to be *same or 1*"
   ]
  },
  {
   "cell_type": "code",
   "execution_count": 45,
   "metadata": {},
   "outputs": [
    {
     "data": {
      "text/plain": [
       "(<tf.Tensor: shape=(2, 3), dtype=int32, numpy=\n",
       " array([[2, 3, 5],\n",
       "        [4, 6, 8]], dtype=int32)>,\n",
       " <tf.Tensor: shape=(3, 2), dtype=int32, numpy=\n",
       " array([[2, 3],\n",
       "        [5, 4],\n",
       "        [6, 8]], dtype=int32)>,\n",
       " <tf.Tensor: shape=(3, 2), dtype=int32, numpy=\n",
       " array([[2, 4],\n",
       "        [3, 6],\n",
       "        [5, 8]], dtype=int32)>)"
      ]
     },
     "execution_count": 45,
     "metadata": {},
     "output_type": "execute_result"
    }
   ],
   "source": [
    "tensor_6 = tf.constant([[2, 3, 5],\n",
    "                        [4, 6, 8]])\n",
    "\n",
    "tensor_6, tf.reshape(tensor_6, [3, 2]), tf.transpose(tensor_6)"
   ]
  },
  {
   "cell_type": "code",
   "execution_count": 52,
   "metadata": {},
   "outputs": [
    {
     "data": {
      "text/plain": [
       "<tf.Tensor: shape=(2, 3, 2, 3), dtype=int32, numpy=\n",
       "array([[[[ 6,  2, 18],\n",
       "         [ 4,  8, 10]],\n",
       "\n",
       "        [[ 9,  3, 27],\n",
       "         [ 6, 12, 15]],\n",
       "\n",
       "        [[15,  5, 45],\n",
       "         [10, 20, 25]]],\n",
       "\n",
       "\n",
       "       [[[12,  4, 36],\n",
       "         [ 8, 16, 20]],\n",
       "\n",
       "        [[18,  6, 54],\n",
       "         [12, 24, 30]],\n",
       "\n",
       "        [[24,  8, 72],\n",
       "         [16, 32, 40]]]], dtype=int32)>"
      ]
     },
     "execution_count": 52,
     "metadata": {},
     "output_type": "execute_result"
    }
   ],
   "source": [
    "tensor_7 = tf.constant([[3, 1, 9],\n",
    "                        [2, 4, 5]])\n",
    "\n",
    "tf.tensordot(tensor_6, tensor_7, 0)"
   ]
  },
  {
   "cell_type": "code",
   "execution_count": null,
   "metadata": {},
   "outputs": [],
   "source": []
  }
 ],
 "metadata": {
  "kernelspec": {
   "display_name": "Python 3.8.2 64-bit",
   "language": "python",
   "name": "python3"
  },
  "language_info": {
   "codemirror_mode": {
    "name": "ipython",
    "version": 3
   },
   "file_extension": ".py",
   "mimetype": "text/x-python",
   "name": "python",
   "nbconvert_exporter": "python",
   "pygments_lexer": "ipython3",
   "version": "3.8.2"
  },
  "orig_nbformat": 4,
  "vscode": {
   "interpreter": {
    "hash": "31f2aee4e71d21fbe5cf8b01ff0e069b9275f58929596ceb00d14d90e3e16cd6"
   }
  }
 },
 "nbformat": 4,
 "nbformat_minor": 2
}
